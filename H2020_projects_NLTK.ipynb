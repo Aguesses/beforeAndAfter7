{
 "cells": [
  {
   "cell_type": "markdown",
   "metadata": {},
   "source": [
    "## H2020 project objective analyse"
   ]
  },
  {
   "cell_type": "markdown",
   "metadata": {},
   "source": [
    "### Starting from data published by the commission on H2020 projects at https://data.europa.eu/euodp/en/data/dataset/cordisH2020projects we do some data mining"
   ]
  },
  {
   "cell_type": "markdown",
   "metadata": {},
   "source": [
    "#### this code snippet starts from the notebook H2020_reportsProjectsOrganisationsDeliverables found this repository"
   ]
  },
  {
   "cell_type": "code",
   "execution_count": 1,
   "metadata": {},
   "outputs": [],
   "source": [
    "import nltk"
   ]
  },
  {
   "cell_type": "code",
   "execution_count": 2,
   "metadata": {},
   "outputs": [],
   "source": [
    "import nltk.corpus"
   ]
  },
  {
   "cell_type": "code",
   "execution_count": 3,
   "metadata": {},
   "outputs": [],
   "source": [
    "from nltk.tokenize import word_tokenize\n",
    "from nltk.corpus import stopwords"
   ]
  },
  {
   "cell_type": "code",
   "execution_count": 4,
   "metadata": {},
   "outputs": [],
   "source": [
    "import pandas as pd\n",
    "import csv"
   ]
  },
  {
   "cell_type": "code",
   "execution_count": 5,
   "metadata": {},
   "outputs": [
    {
     "name": "stdout",
     "output_type": "stream",
     "text": [
      "['4', 'CRYSTAL', 'New innovative textile cutting machine', \"'The textile sector is a multi-million industry in Europe (€165 billion turnover, €4 billion investment and over 1.6 million workers in 2014). Clothing alone stands for €75.6 billion turnover, €1.4 billion investment and over 1.0 million workers in 2014, with two separate production areas: 'high volume - low price', and 'low volume'.\\n\\nThese markets all have a distinctive need: the quality of the cut, sewed fabrics and the flexibility for introducing changes and personalisation. They rely on highly skilled artisans, who cut the material by hand to produce top quality material pieces. The problem arises with the current and foreseen disappearance trend of this highly skilled specialisation, coupled to the continued growth in the sector.\\n\\nOur project delivers a PATENTED single-layer cutting with the accuracy of an expert (\\\\/- 0.1mm) but at the speed of an automatic machine, combined with automatic unloading, stacking and emptying. We have designed and developed a double blade system suitable for all types of fabric without any need for vacuum. Glass planarity and electro-static retention guarantee no tension, deformation or fraying of the fabric. Simplified mechanical components reduce the need for service, leading to significant savings per year on electrical power, consumables and maintenance (63% reduction for CRYSTAL).\\n\\nThis market is about 1,000 cutting machines per year. With our project we intend to reach a market share of 10% (100 machines per year) by 2022. Our intention is to set a selling price for CRYSTAL of €100K for a 35K EUR margin per unit, allowing us to reach a turnover of €10M by 2022 and a net profit of €3.5 million. After €2.27 million total investment, we forecast a Return on Investment (ROI) of 2.74 by Y5.\\n\\n\\u200bWith €700k already invested, we have produced 2 working prototypes, which are being tested by potential clients and proofing our Technology Readiness Level at 6.\\n'\", '2016-11-01', '2017-02-28', 'Accelerating the uptake of nanotechnologies advanced materials or advanced manufacturing and processing technologies by SMEs', 'BIERREBI ITALIA SRL', 'IT', '', '']\n"
     ]
    }
   ],
   "source": [
    "\n",
    "objectives=[]\n",
    "with open(r\"c:\\Users\\jl\\Desktop\\p_textile_objectives.csv\", encoding =\"utf-8\") as file:\n",
    "    readCSV = csv.reader(file, delimiter= ';')\n",
    "    for index, row in enumerate(readCSV):\n",
    "        objectives.append(row)\n",
    "        if index==5:\n",
    "            print(row)"
   ]
  },
  {
   "cell_type": "code",
   "execution_count": 6,
   "metadata": {},
   "outputs": [],
   "source": [
    "from collections import Counter\n",
    "from nltk import RegexpTokenizer\n",
    "\n",
    "for i in range(1,len(objectives)):\n",
    "    if i !=1:\n",
    "        row = objectives[i][3]\n",
    "        \n",
    "        tokenizer = RegexpTokenizer(r'\\w+\\D+.\\D+')      \n",
    "        tokens = nltk.word_tokenize(row)\n",
    "        stopWords = set(stopwords.words('english'))\n",
    "        par_cleaned = [token for token in tokens if token not in stopWords] \n",
    "\n",
    "        NN=[]\n",
    "        for element in par_cleaned:\n",
    "            words = tokenizer.tokenize(element) \n",
    "            tagged = nltk.pos_tag(words)\n",
    "            if tagged:\n",
    "                #print(tagged)\n",
    "                if \"NN\" in tagged[0][1]:\n",
    "                    NN.append(tagged[0][0])\n",
    "        #print(\"Acronym \" + objectives[i][1] + \"    startdate: \" + objectives[i][4], \"    topic: \" + objectives[i][5])\n",
    "        #print(\"title: \" + objectives[i][2])\n",
    "        #print(Counter(NN).most_common(10))\n",
    "        objectives[i].append(Counter(NN).most_common(10))\n",
    "        #print(objectives[3])\n"
   ]
  },
  {
   "cell_type": "code",
   "execution_count": 8,
   "metadata": {},
   "outputs": [],
   "source": [
    "from docx import Document\n",
    "from docx.shared import Inches\n",
    "\n",
    "document = Document()\n",
    "\n",
    "document.add_heading('H2020 projects on textiles and cloting', 0)\n",
    "document.add_page_break()\n",
    "   \n",
    "for i in range(1,len(objectives)):\n",
    "    if i !=1:\n",
    "        document.add_heading(objectives[i][1], level =1)\n",
    "        p = document.add_paragraph(\"Project title: \" + objectives[i][2]).bold = True\n",
    "        pp = document.add_paragraph(\"Start Date: \" + objectives[i][4] + \"          End Date:\" + objectives[i][5])\n",
    "        pp = document.add_paragraph(\"Topic: \" + objectives[i][6])\n",
    "        pp = document.add_paragraph(\"Most frequent returning words in objectives: \")\n",
    "        for j in range(1,len(objectives[i][11])):\n",
    "            pp = document.add_paragraph(str(objectives[i][11][j]),style='List Bullet')\n",
    "        pp = document.add_paragraph(objectives[i][3])\n",
    "        pp = document.add_paragraph(\"Coordinator: \"+objectives[i][7] + \"     from:\" +objectives[i][8])\n",
    "        participant = objectives[i][9].split(\";\")\n",
    "        participantCountry = objectives[i][10].split(\";\")\n",
    "\n",
    "        for k in range(1,len(participant)):\n",
    "            if len(participant) == len(participantCountry):\n",
    "                pp = document.add_paragraph(\"participant: \"+participant[k] + \"     from:\" +participantCountry[k])\n",
    "            else:\n",
    "                pp = document.add_paragraph(\"participant: \"+participant[k])\n",
    "        document.add_page_break()\n",
    "\n",
    "document.save(r'C:\\Users\\jl\\Documents\\H2020_2.docx')"
   ]
  }
 ],
 "metadata": {
  "kernelspec": {
   "display_name": "Python 3",
   "language": "python",
   "name": "python3"
  },
  "language_info": {
   "codemirror_mode": {
    "name": "ipython",
    "version": 3
   },
   "file_extension": ".py",
   "mimetype": "text/x-python",
   "name": "python",
   "nbconvert_exporter": "python",
   "pygments_lexer": "ipython3",
   "version": "3.7.1"
  }
 },
 "nbformat": 4,
 "nbformat_minor": 2
}
